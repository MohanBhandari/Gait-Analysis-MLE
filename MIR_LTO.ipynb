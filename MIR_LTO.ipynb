{
  "nbformat": 4,
  "nbformat_minor": 0,
  "metadata": {
    "kernelspec": {
      "display_name": "Python 3",
      "language": "python",
      "name": "python3"
    },
    "language_info": {
      "codemirror_mode": {
        "name": "ipython",
        "version": 3
      },
      "file_extension": ".py",
      "mimetype": "text/x-python",
      "name": "python",
      "nbconvert_exporter": "python",
      "pygments_lexer": "ipython3",
      "version": "3.7.4"
    },
    "colab": {
      "name": "MLE_Latest.ipynb",
      "provenance": [],
      "collapsed_sections": [],
      "machine_shape": "hm",
      "include_colab_link": true
    }
  },
  "cells": [
    {
      "cell_type": "markdown",
      "metadata": {
        "id": "view-in-github",
        "colab_type": "text"
      },
      "source": [
        "<a href=\"https://colab.research.google.com/github/MohanBhandari/Gait-Analysis-MLE/blob/master/MIR_LTO.ipynb\" target=\"_parent\"><img src=\"https://colab.research.google.com/assets/colab-badge.svg\" alt=\"Open In Colab\"/></a>"
      ]
    },
    {
      "cell_type": "code",
      "metadata": {
        "id": "b9KpYsCIeIOY",
        "colab_type": "code",
        "colab": {}
      },
      "source": [
        "from __future__ import (absolute_import, division,print_function, unicode_literals)\n",
        "from builtins import *\n",
        "import warnings\n",
        "import math\n",
        "import numpy as np\n",
        "import pandas as pd\n",
        "import matplotlib.pyplot as plt\n",
        "from mpl_toolkits.mplot3d import Axes3D\n",
        "from sklearn.preprocessing import StandardScaler\n",
        "from sklearn.decomposition import PCA"
      ],
      "execution_count": 1,
      "outputs": []
    },
    {
      "cell_type": "code",
      "metadata": {
        "id": "D8n1IPvkxTSK",
        "colab_type": "code",
        "colab": {
          "base_uri": "https://localhost:8080/",
          "height": 122
        },
        "outputId": "a713769a-a490-4850-9157-ce61c26c55f4"
      },
      "source": [
        "from google.colab import drive\n",
        "drive.mount('/content/drive')\n"
      ],
      "execution_count": 2,
      "outputs": [
        {
          "output_type": "stream",
          "text": [
            "Go to this URL in a browser: https://accounts.google.com/o/oauth2/auth?client_id=947318989803-6bn6qk8qdgf4n4g3pfee6491hc0brc4i.apps.googleusercontent.com&redirect_uri=urn%3aietf%3awg%3aoauth%3a2.0%3aoob&scope=email%20https%3a%2f%2fwww.googleapis.com%2fauth%2fdocs.test%20https%3a%2f%2fwww.googleapis.com%2fauth%2fdrive%20https%3a%2f%2fwww.googleapis.com%2fauth%2fdrive.photos.readonly%20https%3a%2f%2fwww.googleapis.com%2fauth%2fpeopleapi.readonly&response_type=code\n",
            "\n",
            "Enter your authorization code:\n",
            "··········\n",
            "Mounted at /content/drive\n"
          ],
          "name": "stdout"
        }
      ]
    },
    {
      "cell_type": "code",
      "metadata": {
        "id": "Y5_Mda5mXsSm",
        "colab_type": "code",
        "colab": {}
      },
      "source": [
        "df = pd.read_csv(\"/content/drive/My Drive/MIR.csv\")"
      ],
      "execution_count": 89,
      "outputs": []
    },
    {
      "cell_type": "code",
      "metadata": {
        "id": "O62u0c_axTSa",
        "colab_type": "code",
        "colab": {
          "base_uri": "https://localhost:8080/",
          "height": 255
        },
        "outputId": "7db8222f-c9a8-4375-f67e-8e661031b4a9"
      },
      "source": [
        "print(df)"
      ],
      "execution_count": 90,
      "outputs": [
        {
          "output_type": "stream",
          "text": [
            "       Frame  Time (Seconds)         X  ...       X.7       Y.7       Z.7\n",
            "0          0        0.000000  0.184793  ...  0.171479  1.366651  0.403785\n",
            "1          1        0.008333  0.184807  ...  0.171485  1.366653  0.403787\n",
            "2          2        0.016667  0.184809  ...  0.171475  1.366637  0.403803\n",
            "3          3        0.025000  0.184809  ...  0.171485  1.366655  0.403790\n",
            "4          4        0.033333  0.184807  ...  0.171486  1.366653  0.403795\n",
            "...      ...             ...       ...  ...       ...       ...       ...\n",
            "37422  37422      311.850000  0.142672  ...  0.130262  1.382424  0.409338\n",
            "37423  37423      311.858333  0.144199  ...  0.131727  1.381379  0.408852\n",
            "37424  37424      311.866667  0.145768  ...  0.133070  1.380284  0.408503\n",
            "37425  37425      311.875000  0.147366  ...  0.134402  1.379085  0.408237\n",
            "37426  37426      311.883333  0.149017  ...  0.135991  1.377969  0.407988\n",
            "\n",
            "[37427 rows x 26 columns]\n"
          ],
          "name": "stdout"
        }
      ]
    },
    {
      "cell_type": "code",
      "metadata": {
        "id": "rQyTyejtxTSm",
        "colab_type": "code",
        "colab": {
          "base_uri": "https://localhost:8080/",
          "height": 34
        },
        "outputId": "54c3fd04-ff01-40d1-bd56-3775bf4cf1f6"
      },
      "source": [
        "\n",
        "xs=df.loc[:,'X.2'].values\n",
        "ys=df.loc[:,'Y.2'].values\n",
        "zs=df.loc[:,'Z.2'].values\n",
        "print(xs[0],ys[0],zs[0])\n",
        "dt = 0.01\n",
        "num_steps = 36454"
      ],
      "execution_count": 151,
      "outputs": [
        {
          "output_type": "stream",
          "text": [
            "0.335248 0.040558 0.6422359999999999\n"
          ],
          "name": "stdout"
        }
      ]
    },
    {
      "cell_type": "code",
      "metadata": {
        "id": "HcfWf2bVxTSx",
        "colab_type": "code",
        "colab": {}
      },
      "source": [
        "def lorenz(x, y, z, s=10, r=28, b=2.667):\n",
        "    '''\n",
        "    Given:\n",
        "       x, y, z: a point of interest in three dimensional space\n",
        "       s, r, b: parameters defining the lorenz attractor\n",
        "    Returns:\n",
        "       x_dot, y_dot, z_dot: values of the lorenz attractor's partial\n",
        "           derivatives at the point x, y, z\n",
        "    '''\n",
        "    x_dot = s*(y - x)\n",
        "    y_dot = r*x - y - x*z\n",
        "    z_dot = x*y - b*z\n",
        "    return x_dot, y_dot, z_dot"
      ],
      "execution_count": 152,
      "outputs": []
    },
    {
      "cell_type": "code",
      "metadata": {
        "id": "k5ZP2-7sxTS5",
        "colab_type": "code",
        "colab": {
          "base_uri": "https://localhost:8080/",
          "height": 265
        },
        "outputId": "a738210c-43fa-4025-e86d-bd31c7181939"
      },
      "source": [
        "#xs[0], ys[0], zs[0] = (0.097413, 0.030524, -0.055748)\n",
        "x_1=[]\n",
        "y_1=[]\n",
        "z_1=[]\n",
        "\n",
        "# Step through \"time\", calculating the partial derivatives at the current point\n",
        "# and using them to estimate the next point\n",
        "for i in range(num_steps):\n",
        "    x_dot, y_dot, z_dot = lorenz(xs[i], ys[i], zs[i])\n",
        "    xs[i + 1] = xs[i] + (x_dot * dt)\n",
        "    ys[i + 1] = ys[i] + (y_dot * dt)\n",
        "    zs[i + 1] = zs[i] + (z_dot * dt)\n",
        "    x_1.append(x_dot)\n",
        "    y_1.append(y_dot)\n",
        "    z_1.append(z_dot)\n",
        "# Plot\n",
        "fig = plt.figure()\n",
        "ax = fig.gca(projection='3d')\n",
        "print(xs.shape)\n",
        "#print(zs[0],zs[10],zs[1000],zs[10000],zs[20000],zs[30000],zs[34175])\n",
        "ax.plot(xs, ys, zs, lw=0.09)\n",
        "ax.set_xlabel(\"Marker-X di\")\n",
        "ax.set_ylabel(\"Marker-Y di\")\n",
        "ax.set_zlabel(\"Marker-Z di\")\n",
        "ax.set_title(\"Lorenz Attractor\")\n",
        "plt.show()"
      ],
      "execution_count": 153,
      "outputs": [
        {
          "output_type": "stream",
          "text": [
            "(37427,)\n"
          ],
          "name": "stdout"
        },
        {
          "output_type": "display_data",
          "data": {
            "image/png": "[encoded data removed]",
            "text/plain": [
              "<Figure size 432x288 with 1 Axes>"
            ]
          },
          "metadata": {
            "tags": [],
            "needs_background": "light"
          }
        }
      ]
    },
    {
      "cell_type": "code",
      "metadata": {
        "id": "JxNxI4RKxTTC",
        "colab_type": "code",
        "colab": {
          "base_uri": "https://localhost:8080/",
          "height": 68
        },
        "outputId": "0156cd66-4c0f-4555-de1d-aef2ac174c9e"
      },
      "source": [
        "from_L=[x_1,y_1,z_1]\n",
        "from_L_T=(np.asarray(from_L).T)\n",
        "from_L_fit = StandardScaler().fit_transform(from_L_T)\n",
        "pca = PCA(n_components=1)\n",
        "principalComponents = pca.fit_transform(from_L_fit)\n",
        "final_data=principalComponents[np.logical_not(np.isnan(principalComponents))]\n",
        "print(final_data)\n",
        "print(final_data.shape)\n"
      ],
      "execution_count": 154,
      "outputs": [
        {
          "output_type": "stream",
          "text": [
            "[-0.04934593 -0.0594553  -0.0697849  ...  1.70414702  1.49686758\n",
            "  1.31092615]\n",
            "(36454,)\n"
          ],
          "name": "stdout"
        }
      ]
    },
    {
      "cell_type": "code",
      "metadata": {
        "id": "d9m7H4umxTTK",
        "colab_type": "code",
        "colab": {}
      },
      "source": [
        "def rowwise_euclidean(x, y):\n",
        "    return np.sqrt(np.sum((x - y)**2, axis=1))"
      ],
      "execution_count": 155,
      "outputs": []
    },
    {
      "cell_type": "code",
      "metadata": {
        "id": "jev952pkxTTV",
        "colab_type": "code",
        "colab": {}
      },
      "source": [
        "def poly_fit(x, y, degree, fit=\"RANSAC\"):\n",
        "    # check if we can use RANSAC\n",
        "    if fit == \"RANSAC\":\n",
        "        try:\n",
        "              # ignore ImportWarnings in sklearn\n",
        "            with warnings.catch_warnings():\n",
        "                warnings.simplefilter(\"ignore\", ImportWarning)\n",
        "                import sklearn.linear_model as sklin\n",
        "                import sklearn.preprocessing as skpre\n",
        "        except ImportError:\n",
        "            warnings.warn(\"fitting mode 'RANSAC' requires the package sklearn, using\"+ \" 'poly' instead\",RuntimeWarning)\n",
        "            fit = \"poly\"\n",
        "    if fit == \"poly\":\n",
        "        return np.polyfit(x, y, degree)\n",
        "    elif fit == \"RANSAC\":\n",
        "        model = sklin.RANSACRegressor(sklin.LinearRegression(fit_intercept=False))\n",
        "        xdat = np.asarray(x)\n",
        "        if len(xdat.shape) == 1:\n",
        "          # interpret 1d-array as list of len(x) samples instead of\n",
        "          # one sample of length len(x)\n",
        "            xdat = xdat.reshape(-1, 1)\n",
        "        polydat = skpre.PolynomialFeatures(degree).fit_transform(xdat)\n",
        "        try:\n",
        "            model.fit(polydat, y)\n",
        "            coef = model.estimator_.coef_[::-1]\n",
        "        except ValueError:\n",
        "            warnings.warn(\"RANSAC did not reach consensus, \"+ \"using numpy's polyfit\",RuntimeWarning)\n",
        "            coef = np.polyfit(x, y, degree)\n",
        "        return coef\n",
        "    else:\n",
        "        raise ValueError(\"invalid fitting mode ({})\".format(fit))"
      ],
      "execution_count": 156,
      "outputs": []
    },
    {
      "cell_type": "code",
      "metadata": {
        "id": "aCLcJW0TxTTc",
        "colab_type": "code",
        "colab": {}
      },
      "source": [
        "def delay_embedding(data, emb_dim, lag=1):\n",
        "    data = np.asarray(data)\n",
        "    min_len = (emb_dim - 1) * lag + 1\n",
        "    if len(data) < min_len:\n",
        "        msg = \"cannot embed data of length {} with embedding dimension {} \" \\\n",
        "        + \"and lag {}, minimum required length is {}\"\n",
        "        raise ValueError(msg.format(len(data), emb_dim, lag, min_len))\n",
        "    m = len(data) - min_len + 1\n",
        "    indices = np.repeat([np.arange(emb_dim) * lag], m, axis=0)\n",
        "    indices += np.arange(m).reshape((m, 1))\n",
        "    return data[indices]"
      ],
      "execution_count": 157,
      "outputs": []
    },
    {
      "cell_type": "code",
      "metadata": {
        "id": "yBLzCLOXxTTk",
        "colab_type": "code",
        "colab": {}
      },
      "source": [
        "def lyap_r_len(**kwargs):\n",
        "    # minimum length required to find single orbit vector\n",
        "    min_len = (kwargs['emb_dim'] - 1) * kwargs['lag'] + 1\n",
        "    # we need trajectory_len orbit vectors to follow a complete trajectory\n",
        "    min_len += kwargs['trajectory_len'] - 1\n",
        "    # we need min_tsep * 2 + 1 orbit vectors to find neighbors for each\n",
        "    min_len += kwargs['min_tsep'] * 2 + 1\n",
        "    return min_len"
      ],
      "execution_count": 158,
      "outputs": []
    },
    {
      "cell_type": "code",
      "metadata": {
        "id": "UfdrvrWJxTTw",
        "colab_type": "code",
        "colab": {}
      },
      "source": [
        "def lyap_r(data, emb_dim=10, lag=None, min_tsep=None, tau=1, min_neighbors=20,trajectory_len=100, fit=\"RANSAC\", debug_plot=False, debug_data=False,plot_file=None, fit_offset=0):\n",
        "    # convert data to float to avoid overflow errors in rowwise_euclidean\n",
        "    data = np.asarray(data, dtype=\"float32\")\n",
        "    n = len(data)\n",
        "   \n",
        "    max_tsep_factor = 0.25\n",
        "    if lag is None or min_tsep is None:\n",
        "        # both the algorithm for lag and min_tsep need the fft\n",
        "        f = np.fft.rfft(data, n * 2 - 1)\n",
        "    if min_tsep is None:\n",
        "        # calculate min_tsep as mean period (= 1 / mean frequency)\n",
        "        mf = np.fft.rfftfreq(n * 2 - 1) * np.abs(f)\n",
        "        mf = np.mean(mf[1:]) / np.sum(np.abs(f[1:]))\n",
        "        min_tsep = int(np.ceil(1.0 / mf))\n",
        "        if min_tsep > max_tsep_factor * n:\n",
        "            min_tsep = int(max_tsep_factor * n)\n",
        "            msg = \"signal has very low mean frequency, setting min_tsep = {:d}\"\n",
        "            warnings.warn(msg.format(min_tsep), RuntimeWarning)\n",
        "    if lag is None:\n",
        "        # calculate the lag as point where the autocorrelation drops to (1 - 1/e)\n",
        "        # times its maximum value\n",
        "        # note: the Wiener–Khinchin theorem states that the spectral\n",
        "        # decomposition of the autocorrelation function of a process is the power\n",
        "        # spectrum of that process\n",
        "        # => we can use fft to calculate the autocorrelation\n",
        "        acorr = np.fft.irfft(f * np.conj(f))\n",
        "        acorr = np.roll(acorr, n - 1)\n",
        "        eps = acorr[n - 1] * (1 - 1.0 / np.e)\n",
        "        lag = 1\n",
        "        # small helper function to calculate resulting number of vectors for a\n",
        "        # given lag value\n",
        "        def nb_neighbors(lag_value):\n",
        "            min_len = lyap_r_len(emb_dim=emb_dim, lag=i, trajectory_len=trajectory_len,min_tsep=min_tsep)\n",
        "            return max(0, n - min_len)\n",
        "        # find lag\n",
        "        for i in range(1,n):\n",
        "            lag = i\n",
        "            if acorr[n - 1 + i] < eps or acorr[n - 1 - i] < eps:\n",
        "                break\n",
        "            if nb_neighbors(i) < min_neighbors:\n",
        "                msg = \"autocorrelation declined too slowly to find suitable lag setting lag to {}\"\n",
        "                warnings.warn(msg.format(lag), RuntimeWarning)\n",
        "                break\n",
        "    min_len = lyap_r_len(emb_dim=emb_dim, lag=lag, trajectory_len=trajectory_len,min_tsep=min_tsep)\n",
        "    if len(data) < min_len:\n",
        "        msg = \"for emb_dim = {}, lag = {}, min_tsep = {} and trajectory_len = {}\" \\\n",
        "              + \" you need at least {} datapoints in your time series\"\n",
        "        warnings.warn(msg.format(emb_dim, lag, min_tsep, trajectory_len, min_len),RuntimeWarning)\n",
        "    # delay embedding\n",
        "    orbit = delay_embedding(data, emb_dim, lag)\n",
        "    \n",
        "    m = len(orbit)\n",
        "    \n",
        "    # construct matrix with pairwise distances between vectors in orbit\n",
        "    dists = np.array([rowwise_euclidean(orbit, orbit[i]) for i in range(m)])\n",
        "    # we do not want to consider vectors as neighbor that are less than min_tsep\n",
        "    # time steps together => mask the distances min_tsep to the right and left of\n",
        "    # each index by setting them to infinity (will never be considered as nearest\n",
        "    # neighbors)\n",
        "    for i in range(m):\n",
        "        dists[i, max(0, i - min_tsep):i + min_tsep + 1] = float(\"inf\")\n",
        "    # check that we have enough data points to continue\n",
        "    ntraj = m - trajectory_len + 1\n",
        "    min_traj = min_tsep * 2 + 2 # in each row min_tsep + 1 disances are inf\n",
        "    if ntraj <= 0:\n",
        "        msg = \"Not enough data points. Need {} additional data points to follow \" \\\n",
        "            + \"a complete trajectory.\"\n",
        "        raise ValueError(msg.format(-ntraj+1))\n",
        "    if ntraj < min_traj:\n",
        "        # not enough data points => there are rows where all values are inf\n",
        "        assert np.any(np.all(np.isinf(dists[:ntraj, :ntraj]), axis=1))\n",
        "        msg = \"Not enough data points. At least {} trajectories are required \" \\\n",
        "                + \"to find a valid neighbor for each orbit vector with min_tsep={} \" \\\n",
        "                + \"but only {} could be created.\"\n",
        "        raise ValueError(msg.format(min_traj, min_tsep, ntraj))\n",
        "    assert np.all(np.any(np.isfinite(dists[:ntraj, :ntraj]), axis=1))\n",
        "    # find nearest neighbors (exclude last columns, because these vectors cannot\n",
        "    # be followed in time for trajectory_len steps)\n",
        "    nb_idx = np.argmin(dists[:ntraj, :ntraj], axis=1)\n",
        "\n",
        "    # build divergence trajectory by averaging distances along the trajectory\n",
        "    # over all neighbor pairs\n",
        "    div_traj = np.zeros(trajectory_len, dtype=float)\n",
        "    for k in range(trajectory_len):\n",
        "        # calculate mean trajectory distance at step k\n",
        "        indices = (np.arange(ntraj) + k, nb_idx + k)\n",
        "        div_traj_k = dists[indices]\n",
        "        # filter entries where distance is zero (would lead to -inf after log)\n",
        "        nonzero = np.where(div_traj_k != 0)\n",
        "        if len(nonzero[0]) == 0:\n",
        "            # if all entries where zero, we have to use -inf\n",
        "            div_traj[k] = -np.inf\n",
        "        else:\n",
        "            div_traj[k] = np.mean(np.log(div_traj_k[nonzero]))\n",
        "    # filter -inf entries from mean trajectory\n",
        "    ks = np.arange(trajectory_len)\n",
        "    finite = np.where(np.isfinite(div_traj))\n",
        "    ks = ks[finite]\n",
        "    div_traj = div_traj[finite]\n",
        "    if len(ks) < 1:\n",
        "        # if all points or all but one point in the trajectory is -inf, we cannot\n",
        "        # fit a line through the remaining points => return -inf as exponent\n",
        "        poly = [-np.inf, 0]\n",
        "    else:\n",
        "        # normal line fitting\n",
        "        poly = poly_fit(ks[fit_offset:], div_traj[fit_offset:], 1, fit=fit)\n",
        "    if debug_plot:\n",
        "        plot_reg(ks[fit_offset:], div_traj[fit_offset:], poly, \"k\", \"log(d(k))\", fname=plot_file)\n",
        "    le = poly[0] / tau\n",
        "    if debug_data:\n",
        "        return (le, (ks, div_traj, poly))\n",
        "    else:\n",
        "        return le,div_traj,dists"
      ],
      "execution_count": 159,
      "outputs": []
    },
    {
      "cell_type": "code",
      "metadata": {
        "id": "-axfMrtgxTT3",
        "colab_type": "code",
        "colab": {
          "base_uri": "https://localhost:8080/",
          "height": 68
        },
        "outputId": "e5ab5e8c-6315-46c5-a87a-e104264c0ba3"
      },
      "source": [
        "%%time\n",
        "MLE, div_traj,orbit=(lyap_r(final_data, \n",
        "                            emb_dim=10, lag=None, min_tsep=None, \n",
        "                            tau=1, min_neighbors=20,trajectory_len=2000, \n",
        "                            fit=\"RANSAC\", debug_plot=False, debug_data=False,\n",
        "                            plot_file=None, fit_offset=0))"
      ],
      "execution_count": 160,
      "outputs": [
        {
          "output_type": "stream",
          "text": [
            "/usr/local/lib/python3.6/dist-packages/ipykernel_launcher.py:18: RuntimeWarning: signal has very low mean frequency, setting min_tsep = 9113\n"
          ],
          "name": "stderr"
        },
        {
          "output_type": "stream",
          "text": [
            "CPU times: user 59.8 s, sys: 2min 25s, total: 3min 24s\n",
            "Wall time: 3min 25s\n"
          ],
          "name": "stdout"
        }
      ]
    },
    {
      "cell_type": "code",
      "metadata": {
        "id": "PGb7HHncxTT_",
        "colab_type": "code",
        "colab": {
          "base_uri": "https://localhost:8080/",
          "height": 34
        },
        "outputId": "f38d20c2-e941-4597-982f-cc63fdbb85bd"
      },
      "source": [
        "print(MLE)"
      ],
      "execution_count": 161,
      "outputs": [
        {
          "output_type": "stream",
          "text": [
            "-4.5160646164464994e-05\n"
          ],
          "name": "stdout"
        }
      ]
    },
    {
      "cell_type": "code",
      "metadata": {
        "id": "OylxKVv0xTUH",
        "colab_type": "code",
        "colab": {
          "base_uri": "https://localhost:8080/",
          "height": 282
        },
        "outputId": "9f8acc29-5b69-4004-d7f7-dd7b88a4fc8d"
      },
      "source": [
        "plt.plot(div_traj)"
      ],
      "execution_count": 162,
      "outputs": [
        {
          "output_type": "execute_result",
          "data": {
            "text/plain": [
              "[<matplotlib.lines.Line2D at 0x7ff774fc2828>]"
            ]
          },
          "metadata": {
            "tags": []
          },
          "execution_count": 162
        },
        {
          "output_type": "display_data",
          "data": {
            "image/png": "[encoded data removed]",
            "text/plain": [
              "<Figure size 432x288 with 1 Axes>"
            ]
          },
          "metadata": {
            "tags": [],
            "needs_background": "light"
          }
        }
      ]
    },
    {
      "cell_type": "code",
      "metadata": {
        "id": "bKa4VXwTwcfs",
        "colab_type": "code",
        "colab": {}
      },
      "source": [
        ""
      ],
      "execution_count": 138,
      "outputs": []
    }
  ]
}