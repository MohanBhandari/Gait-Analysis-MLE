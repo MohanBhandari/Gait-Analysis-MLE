{
  "nbformat": 4,
  "nbformat_minor": 0,
  "metadata": {
    "kernelspec": {
      "display_name": "Python 3",
      "language": "python",
      "name": "python3"
    },
    "language_info": {
      "codemirror_mode": {
        "name": "ipython",
        "version": 3
      },
      "file_extension": ".py",
      "mimetype": "text/x-python",
      "name": "python",
      "nbconvert_exporter": "python",
      "pygments_lexer": "ipython3",
      "version": "3.7.4"
    },
    "colab": {
      "name": "MLE_Latest.ipynb",
      "provenance": [],
      "collapsed_sections": [],
      "machine_shape": "hm",
      "include_colab_link": true
    }
  },
  "cells": [
    {
      "cell_type": "markdown",
      "metadata": {
        "id": "view-in-github",
        "colab_type": "text"
      },
      "source": [
        "<a href=\"https://colab.research.google.com/github/MohanBhandari/Gait-Analysis-MLE/blob/master/MCJ_T6.ipynb\" target=\"_parent\"><img src=\"https://colab.research.google.com/assets/colab-badge.svg\" alt=\"Open In Colab\"/></a>"
      ]
    },
    {
      "cell_type": "code",
      "metadata": {
        "id": "b9KpYsCIeIOY",
        "colab_type": "code",
        "colab": {}
      },
      "source": [
        "from __future__ import (absolute_import, division,print_function, unicode_literals)\n",
        "from builtins import *\n",
        "import warnings\n",
        "import math\n",
        "import numpy as np\n",
        "import pandas as pd\n",
        "import matplotlib.pyplot as plt\n",
        "from mpl_toolkits.mplot3d import Axes3D\n",
        "from sklearn.preprocessing import StandardScaler\n",
        "from sklearn.decomposition import PCA"
      ],
      "execution_count": 1,
      "outputs": []
    },
    {
      "cell_type": "code",
      "metadata": {
        "id": "D8n1IPvkxTSK",
        "colab_type": "code",
        "colab": {
          "base_uri": "https://localhost:8080/",
          "height": 34
        },
        "outputId": "4548ef2d-9676-439f-9be8-43e05a303ffb"
      },
      "source": [
        "from google.colab import drive\n",
        "drive.mount('/content/drive')\n"
      ],
      "execution_count": 2,
      "outputs": [
        {
          "output_type": "stream",
          "text": [
            "Mounted at /content/drive\n"
          ],
          "name": "stdout"
        }
      ]
    },
    {
      "cell_type": "code",
      "metadata": {
        "id": "Y5_Mda5mXsSm",
        "colab_type": "code",
        "colab": {}
      },
      "source": [
        "df = pd.read_csv(\"/content/drive/My Drive/MCJ.csv\")"
      ],
      "execution_count": 10,
      "outputs": []
    },
    {
      "cell_type": "code",
      "metadata": {
        "id": "O62u0c_axTSa",
        "colab_type": "code",
        "colab": {
          "base_uri": "https://localhost:8080/",
          "height": 255
        },
        "outputId": "de74bdf1-5b3b-4b68-a8e6-52f87279c0e8"
      },
      "source": [
        "print(df)"
      ],
      "execution_count": 11,
      "outputs": [
        {
          "output_type": "stream",
          "text": [
            "       Frame  Time (Seconds)         X  ...       X.7       Y.7       Z.7\n",
            "0          0        0.000000  0.166966  ...  0.173637  1.296083  0.364348\n",
            "1          1        0.008333  0.167802  ...  0.174998  1.296852  0.363705\n",
            "2          2        0.016667  0.168355  ...  0.176309  1.297685  0.363011\n",
            "3          3        0.025000  0.169107  ...  0.177583  1.298499  0.362427\n",
            "4          4        0.033333  0.169616  ...  0.178668  1.299065  0.361692\n",
            "...      ...             ...       ...  ...       ...       ...       ...\n",
            "36564  36564      304.700000  0.110906  ...  0.111005  1.268501  0.322877\n",
            "36565  36565      304.708333  0.111975  ...  0.111929  1.267407  0.323440\n",
            "36566  36566      304.716667  0.113206  ...  0.113021  1.266407  0.323952\n",
            "36567  36567      304.725000  0.114471  ...  0.114027  1.265463  0.324532\n",
            "36568  36568      304.733333  0.115922  ...  0.115296  1.264865  0.325355\n",
            "\n",
            "[36569 rows x 26 columns]\n"
          ],
          "name": "stdout"
        }
      ]
    },
    {
      "cell_type": "code",
      "metadata": {
        "id": "rQyTyejtxTSm",
        "colab_type": "code",
        "colab": {
          "base_uri": "https://localhost:8080/",
          "height": 34
        },
        "outputId": "6131cd37-db3c-4d8c-cc13-f5fcb9fa2d23"
      },
      "source": [
        "\n",
        "xs=df.loc[:,'X.7'].values\n",
        "ys=df.loc[:,'Y.7'].values\n",
        "zs=df.loc[:,'Z.7'].values\n",
        "print(xs[0],ys[0],zs[0])\n",
        "dt = 0.01\n",
        "num_steps = 36500"
      ],
      "execution_count": 97,
      "outputs": [
        {
          "output_type": "stream",
          "text": [
            "0.17363699999999999 1.296083 0.364348\n"
          ],
          "name": "stdout"
        }
      ]
    },
    {
      "cell_type": "code",
      "metadata": {
        "id": "HcfWf2bVxTSx",
        "colab_type": "code",
        "colab": {}
      },
      "source": [
        "def lorenz(x, y, z, s=10, r=28, b=2.667):\n",
        "    '''\n",
        "    Given:\n",
        "       x, y, z: a point of interest in three dimensional space\n",
        "       s, r, b: parameters defining the lorenz attractor\n",
        "    Returns:\n",
        "       x_dot, y_dot, z_dot: values of the lorenz attractor's partial\n",
        "           derivatives at the point x, y, z\n",
        "    '''\n",
        "    x_dot = s*(y - x)\n",
        "    y_dot = r*x - y - x*z\n",
        "    z_dot = x*y - b*z\n",
        "    return x_dot, y_dot, z_dot"
      ],
      "execution_count": 98,
      "outputs": []
    },
    {
      "cell_type": "code",
      "metadata": {
        "id": "k5ZP2-7sxTS5",
        "colab_type": "code",
        "colab": {
          "base_uri": "https://localhost:8080/",
          "height": 265
        },
        "outputId": "8c60a48d-5ba5-4fae-cf91-1df9dadedc07"
      },
      "source": [
        "#xs[0], ys[0], zs[0] = (0.097413, 0.030524, -0.055748)\n",
        "x_1=[]\n",
        "y_1=[]\n",
        "z_1=[]\n",
        "\n",
        "# Step through \"time\", calculating the partial derivatives at the current point\n",
        "# and using them to estimate the next point\n",
        "for i in range(num_steps):\n",
        "    x_dot, y_dot, z_dot = lorenz(xs[i], ys[i], zs[i])\n",
        "    xs[i + 1] = xs[i] + (x_dot * dt)\n",
        "    ys[i + 1] = ys[i] + (y_dot * dt)\n",
        "    zs[i + 1] = zs[i] + (z_dot * dt)\n",
        "    x_1.append(x_dot)\n",
        "    y_1.append(y_dot)\n",
        "    z_1.append(z_dot)\n",
        "# Plot\n",
        "fig = plt.figure()\n",
        "ax = fig.gca(projection='3d')\n",
        "print(xs.shape)\n",
        "#print(zs[0],zs[10],zs[1000],zs[10000],zs[20000],zs[30000],zs[34175])\n",
        "ax.plot(xs, ys, zs, lw=0.09)\n",
        "ax.set_xlabel(\"Marker-X di\")\n",
        "ax.set_ylabel(\"Marker-Y di\")\n",
        "ax.set_zlabel(\"Marker-Z di\")\n",
        "ax.set_title(\"Lorenz Attractor\")\n",
        "plt.show()"
      ],
      "execution_count": 99,
      "outputs": [
        {
          "output_type": "stream",
          "text": [
            "(36569,)\n"
          ],
          "name": "stdout"
        },
        {
          "output_type": "display_data",
          "data": {
            "image/png": "[encoded data removed]",
            "text/plain": [
              "<Figure size 432x288 with 1 Axes>"
            ]
          },
          "metadata": {
            "tags": [],
            "needs_background": "light"
          }
        }
      ]
    },
    {
      "cell_type": "code",
      "metadata": {
        "id": "JxNxI4RKxTTC",
        "colab_type": "code",
        "colab": {
          "base_uri": "https://localhost:8080/",
          "height": 68
        },
        "outputId": "6deea059-257b-4d7d-fbac-58811ade09be"
      },
      "source": [
        "from_L=[x_1,y_1,z_1]\n",
        "from_L_T=(np.asarray(from_L).T)\n",
        "from_L_fit = StandardScaler().fit_transform(from_L_T)\n",
        "pca = PCA(n_components=1)\n",
        "principalComponents = pca.fit_transform(from_L_fit)\n",
        "final_data=principalComponents[np.logical_not(np.isnan(principalComponents))]\n",
        "print(final_data)\n",
        "print(final_data.shape)\n"
      ],
      "execution_count": 100,
      "outputs": [
        {
          "output_type": "stream",
          "text": [
            "[-0.22734219 -0.24847606 -0.27336063 ... -0.12200083 -0.11139089\n",
            " -0.09967391]\n",
            "(36500,)\n"
          ],
          "name": "stdout"
        }
      ]
    },
    {
      "cell_type": "code",
      "metadata": {
        "id": "d9m7H4umxTTK",
        "colab_type": "code",
        "colab": {}
      },
      "source": [
        "def rowwise_euclidean(x, y):\n",
        "    return np.sqrt(np.sum((x - y)**2, axis=1))"
      ],
      "execution_count": 101,
      "outputs": []
    },
    {
      "cell_type": "code",
      "metadata": {
        "id": "jev952pkxTTV",
        "colab_type": "code",
        "colab": {}
      },
      "source": [
        "def poly_fit(x, y, degree, fit=\"RANSAC\"):\n",
        "    # check if we can use RANSAC\n",
        "    if fit == \"RANSAC\":\n",
        "        try:\n",
        "              # ignore ImportWarnings in sklearn\n",
        "            with warnings.catch_warnings():\n",
        "                warnings.simplefilter(\"ignore\", ImportWarning)\n",
        "                import sklearn.linear_model as sklin\n",
        "                import sklearn.preprocessing as skpre\n",
        "        except ImportError:\n",
        "            warnings.warn(\"fitting mode 'RANSAC' requires the package sklearn, using\"+ \" 'poly' instead\",RuntimeWarning)\n",
        "            fit = \"poly\"\n",
        "    if fit == \"poly\":\n",
        "        return np.polyfit(x, y, degree)\n",
        "    elif fit == \"RANSAC\":\n",
        "        model = sklin.RANSACRegressor(sklin.LinearRegression(fit_intercept=False))\n",
        "        xdat = np.asarray(x)\n",
        "        if len(xdat.shape) == 1:\n",
        "          # interpret 1d-array as list of len(x) samples instead of\n",
        "          # one sample of length len(x)\n",
        "            xdat = xdat.reshape(-1, 1)\n",
        "        polydat = skpre.PolynomialFeatures(degree).fit_transform(xdat)\n",
        "        try:\n",
        "            model.fit(polydat, y)\n",
        "            coef = model.estimator_.coef_[::-1]\n",
        "        except ValueError:\n",
        "            warnings.warn(\"RANSAC did not reach consensus, \"+ \"using numpy's polyfit\",RuntimeWarning)\n",
        "            coef = np.polyfit(x, y, degree)\n",
        "        return coef\n",
        "    else:\n",
        "        raise ValueError(\"invalid fitting mode ({})\".format(fit))"
      ],
      "execution_count": 102,
      "outputs": []
    },
    {
      "cell_type": "code",
      "metadata": {
        "id": "aCLcJW0TxTTc",
        "colab_type": "code",
        "colab": {}
      },
      "source": [
        "def delay_embedding(data, emb_dim, lag=1):\n",
        "    data = np.asarray(data)\n",
        "    min_len = (emb_dim - 1) * lag + 1\n",
        "    if len(data) < min_len:\n",
        "        msg = \"cannot embed data of length {} with embedding dimension {} \" \\\n",
        "        + \"and lag {}, minimum required length is {}\"\n",
        "        raise ValueError(msg.format(len(data), emb_dim, lag, min_len))\n",
        "    m = len(data) - min_len + 1\n",
        "    indices = np.repeat([np.arange(emb_dim) * lag], m, axis=0)\n",
        "    indices += np.arange(m).reshape((m, 1))\n",
        "    return data[indices]"
      ],
      "execution_count": 103,
      "outputs": []
    },
    {
      "cell_type": "code",
      "metadata": {
        "id": "yBLzCLOXxTTk",
        "colab_type": "code",
        "colab": {}
      },
      "source": [
        "def lyap_r_len(**kwargs):\n",
        "    # minimum length required to find single orbit vector\n",
        "    min_len = (kwargs['emb_dim'] - 1) * kwargs['lag'] + 1\n",
        "    # we need trajectory_len orbit vectors to follow a complete trajectory\n",
        "    min_len += kwargs['trajectory_len'] - 1\n",
        "    # we need min_tsep * 2 + 1 orbit vectors to find neighbors for each\n",
        "    min_len += kwargs['min_tsep'] * 2 + 1\n",
        "    return min_len"
      ],
      "execution_count": 104,
      "outputs": []
    },
    {
      "cell_type": "code",
      "metadata": {
        "id": "UfdrvrWJxTTw",
        "colab_type": "code",
        "colab": {}
      },
      "source": [
        "def lyap_r(data, emb_dim=10, lag=None, min_tsep=None, tau=1, min_neighbors=20,trajectory_len=100, fit=\"RANSAC\", debug_plot=False, debug_data=False,plot_file=None, fit_offset=0):\n",
        "    # convert data to float to avoid overflow errors in rowwise_euclidean\n",
        "    data = np.asarray(data, dtype=\"float32\")\n",
        "    n = len(data)\n",
        "   \n",
        "    max_tsep_factor = 0.25\n",
        "    if lag is None or min_tsep is None:\n",
        "        # both the algorithm for lag and min_tsep need the fft\n",
        "        f = np.fft.rfft(data, n * 2 - 1)\n",
        "    if min_tsep is None:\n",
        "        # calculate min_tsep as mean period (= 1 / mean frequency)\n",
        "        mf = np.fft.rfftfreq(n * 2 - 1) * np.abs(f)\n",
        "        mf = np.mean(mf[1:]) / np.sum(np.abs(f[1:]))\n",
        "        min_tsep = int(np.ceil(1.0 / mf))\n",
        "        if min_tsep > max_tsep_factor * n:\n",
        "            min_tsep = int(max_tsep_factor * n)\n",
        "            msg = \"signal has very low mean frequency, setting min_tsep = {:d}\"\n",
        "            warnings.warn(msg.format(min_tsep), RuntimeWarning)\n",
        "    if lag is None:\n",
        "        # calculate the lag as point where the autocorrelation drops to (1 - 1/e)\n",
        "        # times its maximum value\n",
        "        # note: the Wiener–Khinchin theorem states that the spectral\n",
        "        # decomposition of the autocorrelation function of a process is the power\n",
        "        # spectrum of that process\n",
        "        # => we can use fft to calculate the autocorrelation\n",
        "        acorr = np.fft.irfft(f * np.conj(f))\n",
        "        acorr = np.roll(acorr, n - 1)\n",
        "        eps = acorr[n - 1] * (1 - 1.0 / np.e)\n",
        "        lag = 1\n",
        "        # small helper function to calculate resulting number of vectors for a\n",
        "        # given lag value\n",
        "        def nb_neighbors(lag_value):\n",
        "            min_len = lyap_r_len(emb_dim=emb_dim, lag=i, trajectory_len=trajectory_len,min_tsep=min_tsep)\n",
        "            return max(0, n - min_len)\n",
        "        # find lag\n",
        "        for i in range(1,n):\n",
        "            lag = i\n",
        "            if acorr[n - 1 + i] < eps or acorr[n - 1 - i] < eps:\n",
        "                break\n",
        "            if nb_neighbors(i) < min_neighbors:\n",
        "                msg = \"autocorrelation declined too slowly to find suitable lag setting lag to {}\"\n",
        "                warnings.warn(msg.format(lag), RuntimeWarning)\n",
        "                break\n",
        "    min_len = lyap_r_len(emb_dim=emb_dim, lag=lag, trajectory_len=trajectory_len,min_tsep=min_tsep)\n",
        "    if len(data) < min_len:\n",
        "        msg = \"for emb_dim = {}, lag = {}, min_tsep = {} and trajectory_len = {}\" \\\n",
        "              + \" you need at least {} datapoints in your time series\"\n",
        "        warnings.warn(msg.format(emb_dim, lag, min_tsep, trajectory_len, min_len),RuntimeWarning)\n",
        "    # delay embedding\n",
        "    orbit = delay_embedding(data, emb_dim, lag)\n",
        "    \n",
        "    m = len(orbit)\n",
        "    \n",
        "    # construct matrix with pairwise distances between vectors in orbit\n",
        "    dists = np.array([rowwise_euclidean(orbit, orbit[i]) for i in range(m)])\n",
        "    # we do not want to consider vectors as neighbor that are less than min_tsep\n",
        "    # time steps together => mask the distances min_tsep to the right and left of\n",
        "    # each index by setting them to infinity (will never be considered as nearest\n",
        "    # neighbors)\n",
        "    for i in range(m):\n",
        "        dists[i, max(0, i - min_tsep):i + min_tsep + 1] = float(\"inf\")\n",
        "    # check that we have enough data points to continue\n",
        "    ntraj = m - trajectory_len + 1\n",
        "    min_traj = min_tsep * 2 + 2 # in each row min_tsep + 1 disances are inf\n",
        "    if ntraj <= 0:\n",
        "        msg = \"Not enough data points. Need {} additional data points to follow \" \\\n",
        "            + \"a complete trajectory.\"\n",
        "        raise ValueError(msg.format(-ntraj+1))\n",
        "    if ntraj < min_traj:\n",
        "        # not enough data points => there are rows where all values are inf\n",
        "        assert np.any(np.all(np.isinf(dists[:ntraj, :ntraj]), axis=1))\n",
        "        msg = \"Not enough data points. At least {} trajectories are required \" \\\n",
        "                + \"to find a valid neighbor for each orbit vector with min_tsep={} \" \\\n",
        "                + \"but only {} could be created.\"\n",
        "        raise ValueError(msg.format(min_traj, min_tsep, ntraj))\n",
        "    assert np.all(np.any(np.isfinite(dists[:ntraj, :ntraj]), axis=1))\n",
        "    # find nearest neighbors (exclude last columns, because these vectors cannot\n",
        "    # be followed in time for trajectory_len steps)\n",
        "    nb_idx = np.argmin(dists[:ntraj, :ntraj], axis=1)\n",
        "\n",
        "    # build divergence trajectory by averaging distances along the trajectory\n",
        "    # over all neighbor pairs\n",
        "    div_traj = np.zeros(trajectory_len, dtype=float)\n",
        "    for k in range(trajectory_len):\n",
        "        # calculate mean trajectory distance at step k\n",
        "        indices = (np.arange(ntraj) + k, nb_idx + k)\n",
        "        div_traj_k = dists[indices]\n",
        "        # filter entries where distance is zero (would lead to -inf after log)\n",
        "        nonzero = np.where(div_traj_k != 0)\n",
        "        if len(nonzero[0]) == 0:\n",
        "            # if all entries where zero, we have to use -inf\n",
        "            div_traj[k] = -np.inf\n",
        "        else:\n",
        "            div_traj[k] = np.mean(np.log(div_traj_k[nonzero]))\n",
        "    # filter -inf entries from mean trajectory\n",
        "    ks = np.arange(trajectory_len)\n",
        "    finite = np.where(np.isfinite(div_traj))\n",
        "    ks = ks[finite]\n",
        "    div_traj = div_traj[finite]\n",
        "    if len(ks) < 1:\n",
        "        # if all points or all but one point in the trajectory is -inf, we cannot\n",
        "        # fit a line through the remaining points => return -inf as exponent\n",
        "        poly = [-np.inf, 0]\n",
        "    else:\n",
        "        # normal line fitting\n",
        "        poly = poly_fit(ks[fit_offset:], div_traj[fit_offset:], 1, fit=fit)\n",
        "    if debug_plot:\n",
        "        plot_reg(ks[fit_offset:], div_traj[fit_offset:], poly, \"k\", \"log(d(k))\", fname=plot_file)\n",
        "    le = poly[0] / tau\n",
        "    if debug_data:\n",
        "        return (le, (ks, div_traj, poly))\n",
        "    else:\n",
        "        return le,div_traj,dists"
      ],
      "execution_count": 105,
      "outputs": []
    },
    {
      "cell_type": "code",
      "metadata": {
        "id": "-axfMrtgxTT3",
        "colab_type": "code",
        "colab": {
          "base_uri": "https://localhost:8080/",
          "height": 68
        },
        "outputId": "904b910a-60fa-4120-a6b9-a665fb7d7e95"
      },
      "source": [
        "%%time\n",
        "MLE, div_traj,orbit=(lyap_r(final_data, \n",
        "                            emb_dim=10, lag=None, min_tsep=None, \n",
        "                            tau=1, min_neighbors=20,trajectory_len=2000, \n",
        "                            fit=\"RANSAC\", debug_plot=False, debug_data=False,\n",
        "                            plot_file=None, fit_offset=0))"
      ],
      "execution_count": 106,
      "outputs": [
        {
          "output_type": "stream",
          "text": [
            "/usr/local/lib/python3.6/dist-packages/ipykernel_launcher.py:18: RuntimeWarning: signal has very low mean frequency, setting min_tsep = 9125\n"
          ],
          "name": "stderr"
        },
        {
          "output_type": "stream",
          "text": [
            "CPU times: user 52.4 s, sys: 1min 25s, total: 2min 17s\n",
            "Wall time: 2min 17s\n"
          ],
          "name": "stdout"
        }
      ]
    },
    {
      "cell_type": "code",
      "metadata": {
        "id": "PGb7HHncxTT_",
        "colab_type": "code",
        "colab": {
          "base_uri": "https://localhost:8080/",
          "height": 34
        },
        "outputId": "b6f3e0a8-dc22-41a3-f53b-715d227a8fc9"
      },
      "source": [
        "print(MLE)"
      ],
      "execution_count": 107,
      "outputs": [
        {
          "output_type": "stream",
          "text": [
            "7.374349157317803e-05\n"
          ],
          "name": "stdout"
        }
      ]
    },
    {
      "cell_type": "code",
      "metadata": {
        "id": "OylxKVv0xTUH",
        "colab_type": "code",
        "colab": {
          "base_uri": "https://localhost:8080/",
          "height": 282
        },
        "outputId": "147a1832-20df-4da0-c644-87884d8bd7e1"
      },
      "source": [
        "plt.plot(div_traj)"
      ],
      "execution_count": 108,
      "outputs": [
        {
          "output_type": "execute_result",
          "data": {
            "text/plain": [
              "[<matplotlib.lines.Line2D at 0x7f86dea522e8>]"
            ]
          },
          "metadata": {
            "tags": []
          },
          "execution_count": 108
        },
        {
          "output_type": "display_data",
          "data": {
            "image/png": "[encoded data removed]",
            "text/plain": [
              "<Figure size 432x288 with 1 Axes>"
            ]
          },
          "metadata": {
            "tags": [],
            "needs_background": "light"
          }
        }
      ]
    },
    {
      "cell_type": "code",
      "metadata": {
        "id": "bKa4VXwTwcfs",
        "colab_type": "code",
        "colab": {}
      },
      "source": [
        ""
      ],
      "execution_count": 84,
      "outputs": []
    }
  ]
}