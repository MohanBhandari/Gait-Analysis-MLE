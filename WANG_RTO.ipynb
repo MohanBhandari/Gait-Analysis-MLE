{
  "nbformat": 4,
  "nbformat_minor": 0,
  "metadata": {
    "kernelspec": {
      "display_name": "Python 3",
      "language": "python",
      "name": "python3"
    },
    "language_info": {
      "codemirror_mode": {
        "name": "ipython",
        "version": 3
      },
      "file_extension": ".py",
      "mimetype": "text/x-python",
      "name": "python",
      "nbconvert_exporter": "python",
      "pygments_lexer": "ipython3",
      "version": "3.7.6"
    },
    "colab": {
      "name": "MLE.ipynb",
      "provenance": [],
      "collapsed_sections": [],
      "include_colab_link": true
    }
  },
  "cells": [
    {
      "cell_type": "markdown",
      "metadata": {
        "id": "view-in-github",
        "colab_type": "text"
      },
      "source": [
        "<a href=\"https://colab.research.google.com/github/MohanBhandari/Gait-Analysis-MLE/blob/master/WANG_RTO.ipynb\" target=\"_parent\"><img src=\"https://colab.research.google.com/assets/colab-badge.svg\" alt=\"Open In Colab\"/></a>"
      ]
    },
    {
      "cell_type": "code",
      "metadata": {
        "id": "GQNWo13iLC9E",
        "colab_type": "code",
        "colab": {}
      },
      "source": [
        "from __future__ import (absolute_import, division,print_function, unicode_literals)\n",
        "from builtins import *\n",
        "import warnings\n",
        "import math\n",
        "import numpy as np\n",
        "import pandas as pd\n",
        "import matplotlib.pyplot as plt\n",
        "from mpl_toolkits.mplot3d import Axes3D\n",
        "from sklearn.preprocessing import StandardScaler\n",
        "from sklearn.decomposition import PCA"
      ],
      "execution_count": 1,
      "outputs": []
    },
    {
      "cell_type": "code",
      "metadata": {
        "id": "BFIlL2sjxiCh",
        "colab_type": "code",
        "colab": {
          "base_uri": "https://localhost:8080/",
          "height": 34
        },
        "outputId": "23dd4bbb-2677-45a8-8abe-c54b6d37f2b0"
      },
      "source": [
        "from google.colab import drive\n",
        "drive.mount('/content/drive')"
      ],
      "execution_count": 2,
      "outputs": [
        {
          "output_type": "stream",
          "text": [
            "Drive already mounted at /content/drive; to attempt to forcibly remount, call drive.mount(\"/content/drive\", force_remount=True).\n"
          ],
          "name": "stdout"
        }
      ]
    },
    {
      "cell_type": "code",
      "metadata": {
        "id": "JH8Ze7qSLC9J",
        "colab_type": "code",
        "colab": {}
      },
      "source": [
        "df = pd.read_csv('/content/drive/My Drive/WANG.csv')"
      ],
      "execution_count": 3,
      "outputs": []
    },
    {
      "cell_type": "code",
      "metadata": {
        "id": "gr1VHwzWLC9M",
        "colab_type": "code",
        "colab": {
          "base_uri": "https://localhost:8080/",
          "height": 255
        },
        "outputId": "4c42bece-77ea-4124-d9c9-323a041d2def"
      },
      "source": [
        "print(df)"
      ],
      "execution_count": 4,
      "outputs": [
        {
          "output_type": "stream",
          "text": [
            "       Frame  Time (Seconds)         X  ...       X.7       Y.7       Z.7\n",
            "0          0        0.000000  0.142285  ...  0.160094  1.245427  0.070831\n",
            "1          1        0.008333  0.140469  ...  0.158129  1.246585  0.071335\n",
            "2          2        0.016667  0.138600  ...  0.156090  1.247777  0.071844\n",
            "3          3        0.025000  0.136529  ...  0.154084  1.248837  0.072120\n",
            "4          4        0.033333  0.134604  ...  0.151971  1.249712  0.072293\n",
            "...      ...             ...       ...  ...       ...       ...       ...\n",
            "43610  43610      363.416667  1.812599  ...  2.253090 -0.285034  1.193878\n",
            "43611  43611      363.425000  1.816498  ...  2.258919 -0.289368  1.196602\n",
            "43612  43612      363.433333  1.820389  ...  2.264740 -0.293671  1.199326\n",
            "43613  43613      363.441667  1.824280  ...  2.270569 -0.298004  1.202049\n",
            "43614  43614      363.450000  1.828171  ...  2.276398 -0.302338  1.204773\n",
            "\n",
            "[43615 rows x 26 columns]\n"
          ],
          "name": "stdout"
        }
      ]
    },
    {
      "cell_type": "code",
      "metadata": {
        "id": "q2SrsqPMLC9P",
        "colab_type": "code",
        "colab": {}
      },
      "source": [
        "xs=df.loc[:,'X.4'].values\n",
        "ys=df.loc[:,'Y.4'].values\n",
        "zs=df.loc[:,'Z.4'].values\n",
        "dt = 0.01\n",
        "num_steps = 35000"
      ],
      "execution_count": 5,
      "outputs": []
    },
    {
      "cell_type": "code",
      "metadata": {
        "id": "mL7efWM4LC9S",
        "colab_type": "code",
        "colab": {}
      },
      "source": [
        "def lorenz(x, y, z, s=10, r=28, b=2.667):\n",
        "    '''\n",
        "    Given:\n",
        "       x, y, z: a point of interest in three dimensional space\n",
        "       s, r, b: parameters defining the lorenz attractor\n",
        "    Returns:\n",
        "       x_dot, y_dot, z_dot: values of the lorenz attractor's partial\n",
        "           derivatives at the point x, y, z\n",
        "    '''\n",
        "    x_dot = s*(y - x)\n",
        "    y_dot = r*x - y - x*z\n",
        "    z_dot = x*y - b*z\n",
        "    return x_dot, y_dot, z_dot"
      ],
      "execution_count": 6,
      "outputs": []
    },
    {
      "cell_type": "code",
      "metadata": {
        "id": "Dqu7yW4hLC9U",
        "colab_type": "code",
        "colab": {
          "base_uri": "https://localhost:8080/",
          "height": 248
        },
        "outputId": "5565a805-58e2-44b4-8f60-0be4c1dd0be8"
      },
      "source": [
        "#\n",
        "#xs[0], ys[0], zs[0] = (0.142285, 1.401255, 0.130283)\n",
        "x_1=[]\n",
        "y_1=[]\n",
        "z_1=[]\n",
        "\n",
        "# Step through \"time\", calculating the partial derivatives at the current point\n",
        "# and using them to estimate the next point\n",
        "for i in range(num_steps):\n",
        "    x_dot, y_dot, z_dot = lorenz(xs[i], ys[i], zs[i])\n",
        "    xs[i + 1] = xs[i] + (x_dot * dt)\n",
        "    ys[i + 1] = ys[i] + (y_dot * dt)\n",
        "    zs[i + 1] = zs[i] + (z_dot * dt)\n",
        "    x_1.append(x_dot * dt)\n",
        "    y_1.append(y_dot * dt)\n",
        "    z_1.append(z_dot * dt)\n",
        "\n",
        "# Plot\n",
        "fig = plt.figure()\n",
        "ax = fig.gca(projection='3d')\n",
        "\n",
        "ax.plot(x_1, y_1, z_1, lw=0.5)\n",
        "ax.set_xlabel(\"X Axis\")\n",
        "ax.set_ylabel(\"Y Axis\")\n",
        "ax.set_zlabel(\"Z Axis\")\n",
        "ax.set_title(\"Lorenz Attractor\")\n",
        "\n",
        "plt.show()"
      ],
      "execution_count": 7,
      "outputs": [
        {
          "output_type": "display_data",
          "data": {
            "image/png": "[encoded data removed]",
            "text/plain": [
              "<Figure size 432x288 with 1 Axes>"
            ]
          },
          "metadata": {
            "tags": [],
            "needs_background": "light"
          }
        }
      ]
    },
    {
      "cell_type": "code",
      "metadata": {
        "id": "3jI8yj9eLC9X",
        "colab_type": "code",
        "colab": {
          "base_uri": "https://localhost:8080/",
          "height": 68
        },
        "outputId": "36d6b059-39e0-47c5-93ca-603f4911716f"
      },
      "source": [
        "from_L=[x_1,y_1,z_1]\n",
        "from_L_T=(np.asarray(from_L).T)\n",
        "from_L_fit = StandardScaler().fit_transform(from_L_T)\n",
        "pca = PCA(n_components=1)\n",
        "principalComponents = pca.fit_transform(from_L_fit)\n",
        "final_data=principalComponents[np.logical_not(np.isnan(principalComponents))]\n",
        "print(final_data)\n",
        "print(final_data.shape)"
      ],
      "execution_count": 8,
      "outputs": [
        {
          "output_type": "stream",
          "text": [
            "[-0.01158943 -0.01335815 -0.01526848 ... -1.01511602 -0.97814083\n",
            " -0.9236134 ]\n",
            "(35000,)\n"
          ],
          "name": "stdout"
        }
      ]
    },
    {
      "cell_type": "code",
      "metadata": {
        "id": "axH7ERgNLC9a",
        "colab_type": "code",
        "colab": {}
      },
      "source": [
        "def rowwise_euclidean(x, y):\n",
        "    return np.sqrt(np.sum((x - y)**2, axis=1))"
      ],
      "execution_count": 9,
      "outputs": []
    },
    {
      "cell_type": "code",
      "metadata": {
        "id": "WW7j9WGPLC9d",
        "colab_type": "code",
        "colab": {}
      },
      "source": [
        "def poly_fit(x, y, degree, fit=\"RANSAC\"):\n",
        "    # check if we can use RANSAC\n",
        "    if fit == \"RANSAC\":\n",
        "        try:\n",
        "              # ignore ImportWarnings in sklearn\n",
        "            with warnings.catch_warnings():\n",
        "                warnings.simplefilter(\"ignore\", ImportWarning)\n",
        "                import sklearn.linear_model as sklin\n",
        "                import sklearn.preprocessing as skpre\n",
        "        except ImportError:\n",
        "            warnings.warn(\"fitting mode 'RANSAC' requires the package sklearn, using\"+ \" 'poly' instead\",RuntimeWarning)\n",
        "            fit = \"poly\"\n",
        "    if fit == \"poly\":\n",
        "        return np.polyfit(x, y, degree)\n",
        "    elif fit == \"RANSAC\":\n",
        "        model = sklin.RANSACRegressor(sklin.LinearRegression(fit_intercept=False))\n",
        "        xdat = np.asarray(x)\n",
        "        if len(xdat.shape) == 1:\n",
        "          # interpret 1d-array as list of len(x) samples instead of\n",
        "          # one sample of length len(x)\n",
        "            xdat = xdat.reshape(-1, 1)\n",
        "        polydat = skpre.PolynomialFeatures(degree).fit_transform(xdat)\n",
        "        try:\n",
        "            model.fit(polydat, y)\n",
        "            coef = model.estimator_.coef_[::-1]\n",
        "        except ValueError:\n",
        "            warnings.warn(\"RANSAC did not reach consensus, \"+ \"using numpy's polyfit\",RuntimeWarning)\n",
        "            coef = np.polyfit(x, y, degree)\n",
        "        return coef\n",
        "    else:\n",
        "        raise ValueError(\"invalid fitting mode ({})\".format(fit))"
      ],
      "execution_count": 10,
      "outputs": []
    },
    {
      "cell_type": "code",
      "metadata": {
        "id": "Yl075tD1LC9f",
        "colab_type": "code",
        "colab": {}
      },
      "source": [
        "def delay_embedding(data, emb_dim, lag=1):\n",
        "    data = np.asarray(data)\n",
        "    min_len = (emb_dim - 1) * lag + 1\n",
        "    if len(data) < min_len:\n",
        "        msg = \"cannot embed data of length {} with embedding dimension {} \" \\\n",
        "        + \"and lag {}, minimum required length is {}\"\n",
        "        raise ValueError(msg.format(len(data), emb_dim, lag, min_len))\n",
        "    m = len(data) - min_len + 1\n",
        "    indices = np.repeat([np.arange(emb_dim) * lag], m, axis=0)\n",
        "    indices += np.arange(m).reshape((m, 1))\n",
        "    return data[indices]"
      ],
      "execution_count": 11,
      "outputs": []
    },
    {
      "cell_type": "code",
      "metadata": {
        "id": "_FdJ_BiYLC9h",
        "colab_type": "code",
        "colab": {}
      },
      "source": [
        "def lyap_r_len(**kwargs):\n",
        "    # minimum length required to find single orbit vector\n",
        "    min_len = (kwargs['emb_dim'] - 1) * kwargs['lag'] + 1\n",
        "    # we need trajectory_len orbit vectors to follow a complete trajectory\n",
        "    min_len += kwargs['trajectory_len'] - 1\n",
        "    # we need min_tsep * 2 + 1 orbit vectors to find neighbors for each\n",
        "    min_len += kwargs['min_tsep'] * 2 + 1\n",
        "    return min_len"
      ],
      "execution_count": 12,
      "outputs": []
    },
    {
      "cell_type": "code",
      "metadata": {
        "id": "9TgH8PaFLC9k",
        "colab_type": "code",
        "colab": {}
      },
      "source": [
        "def lyap_r(data, emb_dim=10, lag=None, min_tsep=None, tau=1, min_neighbors=20,trajectory_len=20, fit=\"RANSAC\", debug_plot=False, debug_data=False,plot_file=None, fit_offset=0):\n",
        "    # convert data to float to avoid overflow errors in rowwise_euclidean\n",
        "    data = np.asarray(data, dtype=\"float32\")\n",
        "    n = len(data)\n",
        "   \n",
        "    max_tsep_factor = 0.25\n",
        "    if lag is None or min_tsep is None:\n",
        "        # both the algorithm for lag and min_tsep need the fft\n",
        "        f = np.fft.rfft(data, n * 2 - 1)\n",
        "    if min_tsep is None:\n",
        "        # calculate min_tsep as mean period (= 1 / mean frequency)\n",
        "        mf = np.fft.rfftfreq(n * 2 - 1) * np.abs(f)\n",
        "        mf = np.mean(mf[1:]) / np.sum(np.abs(f[1:]))\n",
        "        min_tsep = int(np.ceil(1.0 / mf))\n",
        "        if min_tsep > max_tsep_factor * n:\n",
        "            min_tsep = int(max_tsep_factor * n)\n",
        "            msg = \"signal has very low mean frequency, setting min_tsep = {:d}\"\n",
        "            warnings.warn(msg.format(min_tsep), RuntimeWarning)\n",
        "    if lag is None:\n",
        "        # calculate the lag as point where the autocorrelation drops to (1 - 1/e)\n",
        "        # times its maximum value\n",
        "        # note: the Wiener–Khinchin theorem states that the spectral\n",
        "        # decomposition of the autocorrelation function of a process is the power\n",
        "        # spectrum of that process\n",
        "        # => we can use fft to calculate the autocorrelation\n",
        "        acorr = np.fft.irfft(f * np.conj(f))\n",
        "        acorr = np.roll(acorr, n - 1)\n",
        "        eps = acorr[n - 1] * (1 - 1.0 / np.e)\n",
        "        lag = 1\n",
        "        # small helper function to calculate resulting number of vectors for a\n",
        "        # given lag value\n",
        "        def nb_neighbors(lag_value):\n",
        "            min_len = lyap_r_len(emb_dim=emb_dim, lag=i, trajectory_len=trajectory_len,min_tsep=min_tsep)\n",
        "            return max(0, n - min_len)\n",
        "        # find lag\n",
        "        for i in range(1,n):\n",
        "            lag = i\n",
        "            if acorr[n - 1 + i] < eps or acorr[n - 1 - i] < eps:\n",
        "                break\n",
        "            if nb_neighbors(i) < min_neighbors:\n",
        "                msg = \"autocorrelation declined too slowly to find suitable lag setting lag to {}\"\n",
        "                warnings.warn(msg.format(lag), RuntimeWarning)\n",
        "                break\n",
        "    min_len = lyap_r_len(emb_dim=emb_dim, lag=lag, trajectory_len=trajectory_len,min_tsep=min_tsep)\n",
        "    if len(data) < min_len:\n",
        "        msg = \"for emb_dim = {}, lag = {}, min_tsep = {} and trajectory_len = {}\" \\\n",
        "              + \" you need at least {} datapoints in your time series\"\n",
        "        warnings.warn(msg.format(emb_dim, lag, min_tsep, trajectory_len, min_len),RuntimeWarning)\n",
        "    # delay embedding\n",
        "    orbit = delay_embedding(data, emb_dim, lag)\n",
        "    \n",
        "    m = len(orbit)\n",
        "    \n",
        "    # construct matrix with pairwise distances between vectors in orbit\n",
        "    dists = np.array([rowwise_euclidean(orbit, orbit[i]) for i in range(m)])\n",
        "    # we do not want to consider vectors as neighbor that are less than min_tsep\n",
        "    # time steps together => mask the distances min_tsep to the right and left of\n",
        "    # each index by setting them to infinity (will never be considered as nearest\n",
        "    # neighbors)\n",
        "    for i in range(m):\n",
        "        dists[i, max(0, i - min_tsep):i + min_tsep + 1] = float(\"inf\")\n",
        "    # check that we have enough data points to continue\n",
        "    ntraj = m - trajectory_len + 1\n",
        "    min_traj = min_tsep * 2 + 2 # in each row min_tsep + 1 disances are inf\n",
        "    if ntraj <= 0:\n",
        "        msg = \"Not enough data points. Need {} additional data points to follow \" \\\n",
        "            + \"a complete trajectory.\"\n",
        "        raise ValueError(msg.format(-ntraj+1))\n",
        "    if ntraj < min_traj:\n",
        "        # not enough data points => there are rows where all values are inf\n",
        "        assert np.any(np.all(np.isinf(dists[:ntraj, :ntraj]), axis=1))\n",
        "        msg = \"Not enough data points. At least {} trajectories are required \" \\\n",
        "                + \"to find a valid neighbor for each orbit vector with min_tsep={} \" \\\n",
        "                + \"but only {} could be created.\"\n",
        "        raise ValueError(msg.format(min_traj, min_tsep, ntraj))\n",
        "    assert np.all(np.any(np.isfinite(dists[:ntraj, :ntraj]), axis=1))\n",
        "    # find nearest neighbors (exclude last columns, because these vectors cannot\n",
        "    # be followed in time for trajectory_len steps)\n",
        "    nb_idx = np.argmin(dists[:ntraj, :ntraj], axis=1)\n",
        "\n",
        "    # build divergence trajectory by averaging distances along the trajectory\n",
        "    # over all neighbor pairs\n",
        "    div_traj = np.zeros(trajectory_len, dtype=float)\n",
        "    for k in range(trajectory_len):\n",
        "        # calculate mean trajectory distance at step k\n",
        "        indices = (np.arange(ntraj) + k, nb_idx + k)\n",
        "        div_traj_k = dists[indices]\n",
        "        # filter entries where distance is zero (would lead to -inf after log)\n",
        "        nonzero = np.where(div_traj_k != 0)\n",
        "        if len(nonzero[0]) == 0:\n",
        "            # if all entries where zero, we have to use -inf\n",
        "            div_traj[k] = -np.inf\n",
        "        else:\n",
        "            div_traj[k] = np.mean(np.log(div_traj_k[nonzero]))\n",
        "    # filter -inf entries from mean trajectory\n",
        "    ks = np.arange(trajectory_len)\n",
        "    finite = np.where(np.isfinite(div_traj))\n",
        "    ks = ks[finite]\n",
        "    div_traj = div_traj[finite]\n",
        "    if len(ks) < 1:\n",
        "        # if all points or all but one point in the trajectory is -inf, we cannot\n",
        "        # fit a line through the remaining points => return -inf as exponent\n",
        "        poly = [-np.inf, 0]\n",
        "    else:\n",
        "        # normal line fitting\n",
        "        poly = poly_fit(ks[fit_offset:], div_traj[fit_offset:], 1, fit=fit)\n",
        "    if debug_plot:\n",
        "        plot_reg(ks[fit_offset:], div_traj[fit_offset:], poly, \"k\", \"log(d(k))\", fname=plot_file)\n",
        "    le = poly[0] / tau\n",
        "    if debug_data:\n",
        "        return (le, (ks, div_traj, poly))\n",
        "    else:\n",
        "        return le,div_traj,dists"
      ],
      "execution_count": 13,
      "outputs": []
    },
    {
      "cell_type": "code",
      "metadata": {
        "id": "IZrJJnyTLC9m",
        "colab_type": "code",
        "colab": {
          "base_uri": "https://localhost:8080/",
          "height": 34
        },
        "outputId": "fa459706-6dfa-46c4-9878-92b87cf9718e"
      },
      "source": [
        "MLE, div_traj,orbit=(lyap_r(final_data, emb_dim=10, lag=None, min_tsep=None, tau=1, min_neighbors=20,trajectory_len=20, fit=\"RANSAC\", debug_plot=False, debug_data=False,plot_file=None, fit_offset=0))"
      ],
      "execution_count": 14,
      "outputs": [
        {
          "output_type": "stream",
          "text": [
            "/usr/local/lib/python3.6/dist-packages/ipykernel_launcher.py:18: RuntimeWarning: signal has very low mean frequency, setting min_tsep = 8750\n"
          ],
          "name": "stderr"
        }
      ]
    },
    {
      "cell_type": "code",
      "metadata": {
        "id": "qbOmGKC2LC9u",
        "colab_type": "code",
        "colab": {
          "base_uri": "https://localhost:8080/",
          "height": 34
        },
        "outputId": "76238d4b-4291-42b4-ac64-2bdafc12b377"
      },
      "source": [
        "print(MLE)"
      ],
      "execution_count": 15,
      "outputs": [
        {
          "output_type": "stream",
          "text": [
            "0.009663188905644222\n"
          ],
          "name": "stdout"
        }
      ]
    },
    {
      "cell_type": "code",
      "metadata": {
        "id": "Uh-N9OsZLC9w",
        "colab_type": "code",
        "colab": {
          "base_uri": "https://localhost:8080/",
          "height": 282
        },
        "outputId": "f0b01b22-a85f-4d71-95d8-eba540aaf6ee"
      },
      "source": [
        "plt.plot(div_traj)"
      ],
      "execution_count": 16,
      "outputs": [
        {
          "output_type": "execute_result",
          "data": {
            "text/plain": [
              "[<matplotlib.lines.Line2D at 0x7f1aff7d8da0>]"
            ]
          },
          "metadata": {
            "tags": []
          },
          "execution_count": 16
        },
        {
          "output_type": "display_data",
          "data": {
            "image/png": "[encoded data removed]",
            "text/plain": [
              "<Figure size 432x288 with 1 Axes>"
            ]
          },
          "metadata": {
            "tags": [],
            "needs_background": "light"
          }
        }
      ]
    },
    {
      "cell_type": "markdown",
      "metadata": {
        "id": "Y_OfpIQxLC9y",
        "colab_type": "text"
      },
      "source": [
        "import nolds\n",
        "nolds.lyap_r(final_data, emb_dim=10, lag=None, min_tsep=None, tau=1, min_neighbors=20, trajectory_len=20, fit='RANSAC', debug_plot=False, debug_data=False, plot_file=None, fit_offset=0)"
      ]
    },
    {
      "cell_type": "code",
      "metadata": {
        "id": "JXCq_BHoLC9z",
        "colab_type": "code",
        "colab": {}
      },
      "source": [
        ""
      ],
      "execution_count": 16,
      "outputs": []
    },
    {
      "cell_type": "code",
      "metadata": {
        "id": "XsLYTm31LC91",
        "colab_type": "code",
        "colab": {}
      },
      "source": [
        ""
      ],
      "execution_count": 16,
      "outputs": []
    }
  ]
}